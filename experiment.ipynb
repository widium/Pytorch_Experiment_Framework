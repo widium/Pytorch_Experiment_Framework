{
 "cells": [
  {
   "attachments": {},
   "cell_type": "markdown",
   "metadata": {},
   "source": [
    "### Getting Data"
   ]
  },
  {
   "cell_type": "code",
   "execution_count": 1,
   "metadata": {},
   "outputs": [],
   "source": [
    "import wget\n",
    "from zipfile import ZipFile\n",
    "from pathlib import Path\n",
    "\n",
    "def download_and_extract_zip_into_folder(\n",
    "    zip_url : str,\n",
    "    data_dir : str = \"data/\"\n",
    ")->None:\n",
    "    \"\"\"Download and Extract Zip Url into target folder\n",
    "\n",
    "    Args:\n",
    "        zip_url (str): url of zip file\n",
    "        data_dir (str, optional): folder to extract data. Defaults to \"data/\".\n",
    "    \"\"\"\n",
    "    data_path = Path(data_dir)\n",
    "    zip_name = Path(zip_url).stem\n",
    "    \n",
    "    # Setup new folder path into data folder\n",
    "    new_folder_path = data_path / zip_name\n",
    "\n",
    "    # If the new folder doesn't exist, download it and prepare it... \n",
    "    if new_folder_path.is_dir():\n",
    "        print(f\"[INFO] : {new_folder_path} directory exists, do nothing.\")\n",
    "\n",
    "    else:\n",
    "        print(f\"[INFO] : Creating {new_folder_path} directory\")\n",
    "        new_folder_path.mkdir(parents=True, exist_ok=True)\n",
    "\n",
    "        # Download zip file\n",
    "        zip_file = wget.download(zip_url)\n",
    "        print(f\"[INFO] : Download {zip_file}\")\n",
    "        zip_file = Path(zip_file)\n",
    "        \n",
    "        # Unzip zipfile in new folder\n",
    "        ziper = ZipFile(zip_file)\n",
    "        ziper.extractall(new_folder_path)\n",
    "        print(f\"[INFO] : Extract {zip_file} here : {new_folder_path}\")\n",
    "\n",
    "        # Remove zip File\n",
    "        print(f\"[INFO] : Remove {zip_file}...\")\n",
    "        zip_file.unlink()\n",
    "    \n",
    "    return (new_folder_path)"
   ]
  },
  {
   "cell_type": "code",
   "execution_count": 3,
   "metadata": {},
   "outputs": [
    {
     "name": "stdout",
     "output_type": "stream",
     "text": [
      "[INFO] : Creating data/pizza_steak_sushi_20_percent directory\n",
      "[INFO] : Download pizza_steak_sushi_20_percent.zip\n",
      "[INFO] : Extract pizza_steak_sushi_20_percent.zip here : data/pizza_steak_sushi_20_percent\n",
      "[INFO] : Remove pizza_steak_sushi_20_percent.zip...\n"
     ]
    },
    {
     "data": {
      "text/plain": [
       "PosixPath('data/pizza_steak_sushi_20_percent')"
      ]
     },
     "execution_count": 3,
     "metadata": {},
     "output_type": "execute_result"
    }
   ],
   "source": [
    "download_and_extract_zip_into_folder(\n",
    "    zip_url=\"https://github.com/mrdbourke/pytorch-deep-learning/raw/main/data/pizza_steak_sushi_20_percent.zip\",\n",
    "    data_dir=\"data/\",\n",
    ")"
   ]
  },
  {
   "cell_type": "code",
   "execution_count": 1,
   "metadata": {},
   "outputs": [
    {
     "data": {
      "text/plain": [
       "(PosixPath('data/pizza_steak_sushi_20_percent'),\n",
       " PosixPath('data/pizza_steak_sushi_20_percent/train'),\n",
       " PosixPath('data/pizza_steak_sushi_20_percent/test'))"
      ]
     },
     "execution_count": 1,
     "metadata": {},
     "output_type": "execute_result"
    }
   ],
   "source": [
    "from pathlib import Path\n",
    " \n",
    "# Setup train and testing paths\n",
    "PARENT_FOLDER = Path(\"data/pizza_steak_sushi_20_percent\")\n",
    "\n",
    "TRAIN_DIR = PARENT_FOLDER / \"train\"\n",
    "TEST_DIR = PARENT_FOLDER / \"test\"\n",
    "\n",
    "PARENT_FOLDER, TRAIN_DIR, TEST_DIR"
   ]
  },
  {
   "attachments": {},
   "cell_type": "markdown",
   "metadata": {},
   "source": [
    "### Import `EfficientNetB0` Pretrained Weight and Image transformer"
   ]
  },
  {
   "cell_type": "code",
   "execution_count": 2,
   "metadata": {},
   "outputs": [],
   "source": [
    "from torchvision.models import EfficientNet_B0_Weights\n",
    "from torchvision.models import efficientnet_b0\n",
    "\n",
    "# Get the Weight of Model `DEFAULT` == last best version\n",
    "weights = EfficientNet_B0_Weights.DEFAULT\n",
    "\n",
    "preprocessing = weights.transforms()\n",
    "\n",
    "# Give Weight to model architecture\n",
    "efficientnetb0 = efficientnet_b0(weights=weights)"
   ]
  },
  {
   "cell_type": "code",
   "execution_count": 3,
   "metadata": {},
   "outputs": [
    {
     "data": {
      "text/plain": [
       "(450, 150)"
      ]
     },
     "execution_count": 3,
     "metadata": {},
     "output_type": "execute_result"
    }
   ],
   "source": [
    "from torchvision.datasets import ImageFolder\n",
    "\n",
    "train_dataset = ImageFolder(root=TRAIN_DIR,\n",
    "                            transform=preprocessing)\n",
    "\n",
    "test_dataset = ImageFolder(root=TEST_DIR,\n",
    "                           transform=preprocessing)\n",
    "\n",
    "len(train_dataset), len(test_dataset)"
   ]
  },
  {
   "cell_type": "code",
   "execution_count": 4,
   "metadata": {},
   "outputs": [
    {
     "data": {
      "text/plain": [
       "(15, 5)"
      ]
     },
     "execution_count": 4,
     "metadata": {},
     "output_type": "execute_result"
    }
   ],
   "source": [
    "from torch.utils.data import DataLoader\n",
    "import os \n",
    "\n",
    "BATCH_SIZE = 32\n",
    "NUM_WORKERS = os.cpu_count()\n",
    "\n",
    "train_dataloader = DataLoader(\n",
    "    dataset=train_dataset,\n",
    "    batch_size=BATCH_SIZE,\n",
    "    num_workers=NUM_WORKERS,\n",
    "    shuffle=True \n",
    ")\n",
    "\n",
    "test_dataloader = DataLoader(\n",
    "    dataset=test_dataset,\n",
    "    batch_size=BATCH_SIZE,\n",
    "    num_workers=NUM_WORKERS,\n",
    "    shuffle=False # don't necessarily have to shuffle the testing data\n",
    ")\n",
    "\n",
    "len(train_dataloader), len(test_dataloader)"
   ]
  },
  {
   "attachments": {},
   "cell_type": "markdown",
   "metadata": {},
   "source": [
    "### Convert `EfficientNetB0` to Feature Extractor\n",
    "- Create a custom `Module` Pytorch with :\n",
    "- Frozen all parameters\n",
    "- Change Head of Model `classifier`"
   ]
  },
  {
   "cell_type": "code",
   "execution_count": 5,
   "metadata": {},
   "outputs": [],
   "source": [
    "from torch.nn import Module\n",
    "\n",
    "def frozen_module_parameters(module : Module)->Module:\n",
    "    \"\"\"Frozen all Module parameters\n",
    "\n",
    "    Args:\n",
    "        module (Module): Module\n",
    "\n",
    "    Returns:\n",
    "        Module: New Module with all requires_grad = False\n",
    "    \"\"\"\n",
    "    for parameter in module.parameters():\n",
    "        parameter.requires_grad = False\n",
    "    \n",
    "    return (module)"
   ]
  },
  {
   "cell_type": "code",
   "execution_count": 6,
   "metadata": {},
   "outputs": [],
   "source": [
    "from torch.nn import Sequential, Dropout, Linear\n",
    "\n",
    "efficientnetb0_feature_extractor = frozen_module_parameters(module=efficientnetb0) \n",
    "efficientnetb0_feature_extractor.classifier = Sequential(\n",
    "    Dropout(p=0.2),\n",
    "    Linear(in_features=1280, out_features=3)\n",
    ")"
   ]
  },
  {
   "cell_type": "code",
   "execution_count": 7,
   "metadata": {},
   "outputs": [
    {
     "data": {
      "text/plain": [
       "============================================================================================================================================\n",
       "Layer (type (var_name))                                      Input Shape          Output Shape         Param #              Trainable\n",
       "============================================================================================================================================\n",
       "EfficientNet (EfficientNet)                                  [1, 3, 224, 224]     [1, 3]               --                   Partial\n",
       "├─Sequential (features)                                      [1, 3, 224, 224]     [1, 1280, 7, 7]      --                   False\n",
       "│    └─Conv2dNormActivation (0)                              [1, 3, 224, 224]     [1, 32, 112, 112]    --                   False\n",
       "│    │    └─Conv2d (0)                                       [1, 3, 224, 224]     [1, 32, 112, 112]    (864)                False\n",
       "│    │    └─BatchNorm2d (1)                                  [1, 32, 112, 112]    [1, 32, 112, 112]    (64)                 False\n",
       "│    │    └─SiLU (2)                                         [1, 32, 112, 112]    [1, 32, 112, 112]    --                   --\n",
       "│    └─Sequential (1)                                        [1, 32, 112, 112]    [1, 16, 112, 112]    --                   False\n",
       "│    │    └─MBConv (0)                                       [1, 32, 112, 112]    [1, 16, 112, 112]    (1,448)              False\n",
       "│    └─Sequential (2)                                        [1, 16, 112, 112]    [1, 24, 56, 56]      --                   False\n",
       "│    │    └─MBConv (0)                                       [1, 16, 112, 112]    [1, 24, 56, 56]      (6,004)              False\n",
       "│    │    └─MBConv (1)                                       [1, 24, 56, 56]      [1, 24, 56, 56]      (10,710)             False\n",
       "│    └─Sequential (3)                                        [1, 24, 56, 56]      [1, 40, 28, 28]      --                   False\n",
       "│    │    └─MBConv (0)                                       [1, 24, 56, 56]      [1, 40, 28, 28]      (15,350)             False\n",
       "│    │    └─MBConv (1)                                       [1, 40, 28, 28]      [1, 40, 28, 28]      (31,290)             False\n",
       "│    └─Sequential (4)                                        [1, 40, 28, 28]      [1, 80, 14, 14]      --                   False\n",
       "│    │    └─MBConv (0)                                       [1, 40, 28, 28]      [1, 80, 14, 14]      (37,130)             False\n",
       "│    │    └─MBConv (1)                                       [1, 80, 14, 14]      [1, 80, 14, 14]      (102,900)            False\n",
       "│    │    └─MBConv (2)                                       [1, 80, 14, 14]      [1, 80, 14, 14]      (102,900)            False\n",
       "│    └─Sequential (5)                                        [1, 80, 14, 14]      [1, 112, 14, 14]     --                   False\n",
       "│    │    └─MBConv (0)                                       [1, 80, 14, 14]      [1, 112, 14, 14]     (126,004)            False\n",
       "│    │    └─MBConv (1)                                       [1, 112, 14, 14]     [1, 112, 14, 14]     (208,572)            False\n",
       "│    │    └─MBConv (2)                                       [1, 112, 14, 14]     [1, 112, 14, 14]     (208,572)            False\n",
       "│    └─Sequential (6)                                        [1, 112, 14, 14]     [1, 192, 7, 7]       --                   False\n",
       "│    │    └─MBConv (0)                                       [1, 112, 14, 14]     [1, 192, 7, 7]       (262,492)            False\n",
       "│    │    └─MBConv (1)                                       [1, 192, 7, 7]       [1, 192, 7, 7]       (587,952)            False\n",
       "│    │    └─MBConv (2)                                       [1, 192, 7, 7]       [1, 192, 7, 7]       (587,952)            False\n",
       "│    │    └─MBConv (3)                                       [1, 192, 7, 7]       [1, 192, 7, 7]       (587,952)            False\n",
       "│    └─Sequential (7)                                        [1, 192, 7, 7]       [1, 320, 7, 7]       --                   False\n",
       "│    │    └─MBConv (0)                                       [1, 192, 7, 7]       [1, 320, 7, 7]       (717,232)            False\n",
       "│    └─Conv2dNormActivation (8)                              [1, 320, 7, 7]       [1, 1280, 7, 7]      --                   False\n",
       "│    │    └─Conv2d (0)                                       [1, 320, 7, 7]       [1, 1280, 7, 7]      (409,600)            False\n",
       "│    │    └─BatchNorm2d (1)                                  [1, 1280, 7, 7]      [1, 1280, 7, 7]      (2,560)              False\n",
       "│    │    └─SiLU (2)                                         [1, 1280, 7, 7]      [1, 1280, 7, 7]      --                   --\n",
       "├─AdaptiveAvgPool2d (avgpool)                                [1, 1280, 7, 7]      [1, 1280, 1, 1]      --                   --\n",
       "├─Sequential (classifier)                                    [1, 1280]            [1, 3]               --                   True\n",
       "│    └─Dropout (0)                                           [1, 1280]            [1, 1280]            --                   --\n",
       "│    └─Linear (1)                                            [1, 1280]            [1, 3]               3,843                True\n",
       "============================================================================================================================================\n",
       "Total params: 4,011,391\n",
       "Trainable params: 3,843\n",
       "Non-trainable params: 4,007,548\n",
       "Total mult-adds (M): 384.59\n",
       "============================================================================================================================================\n",
       "Input size (MB): 0.60\n",
       "Forward/backward pass size (MB): 107.88\n",
       "Params size (MB): 16.05\n",
       "Estimated Total Size (MB): 124.53\n",
       "============================================================================================================================================"
      ]
     },
     "execution_count": 7,
     "metadata": {},
     "output_type": "execute_result"
    }
   ],
   "source": [
    "from torchinfo import summary\n",
    "\n",
    "summary(model=efficientnetb0_feature_extractor, \n",
    "        input_size=(1, 3, 224, 224),\n",
    "        col_names=[\"input_size\", \"output_size\", \"num_params\", \"trainable\"],\n",
    "        col_width=20,\n",
    "        row_settings=[\"var_names\"]\n",
    ") "
   ]
  },
  {
   "cell_type": "code",
   "execution_count": 8,
   "metadata": {},
   "outputs": [
    {
     "name": "stdout",
     "output_type": "stream",
     "text": [
      "Using device: cuda\n"
     ]
    }
   ],
   "source": [
    "import torch \n",
    "\n",
    "### Setup device agnostic code\n",
    "device = \"cuda\" if torch.cuda.is_available() else \"cpu\"\n",
    "print(f\"Using device: {device}\")"
   ]
  },
  {
   "cell_type": "code",
   "execution_count": 9,
   "metadata": {},
   "outputs": [
    {
     "data": {
      "application/vnd.jupyter.widget-view+json": {
       "model_id": "815f30d5c5d945f187cfb1e11b17f090",
       "version_major": 2,
       "version_minor": 0
      },
      "text/plain": [
       "  0%|          | 0/1 [00:00<?, ?it/s]"
      ]
     },
     "metadata": {},
     "output_type": "display_data"
    },
    {
     "name": "stdout",
     "output_type": "stream",
     "text": [
      "Epochs            | Train Loss        | Train Accuracy    | Val Loss          | Val Accuracy      |\n",
      "===============================================================================================\n",
      "100.0% [1/1]      | 0.6570            | 0.6667            | 0.4443            | 0.8278            |\n",
      "-----------------------------------------------------------------------------------------------\n"
     ]
    },
    {
     "data": {
      "image/png": "[encoded data removed]",
      "text/plain": [
       "<Figure size 2000x1200 with 2 Axes>"
      ]
     },
     "metadata": {},
     "output_type": "display_data"
    }
   ],
   "source": [
    "from torch.nn import CrossEntropyLoss\n",
    "from torch.optim import Adam, SGD\n",
    "from torchmetrics.classification import F1Score\n",
    "from utils.training import train\n",
    "\n",
    "efficientnetb0_feature_extractor.to(device)\n",
    "\n",
    "\n",
    "metric_function = F1Score(task=\"multiclass\", num_classes=3)\n",
    "optimizer = Adam(efficientnetb0_feature_extractor.parameters(), lr=0.01)\n",
    "loss_function = CrossEntropyLoss()\n",
    "\n",
    "\n",
    "history = train(\n",
    "    model=efficientnetb0_feature_extractor,\n",
    "    train_dataloader=train_dataloader,\n",
    "    test_dataloader=test_dataloader,\n",
    "    optimizer=optimizer,\n",
    "    loss_function=loss_function,\n",
    "    metric_function=metric_function,\n",
    "    device=device,\n",
    "    epochs=1\n",
    ")"
   ]
  },
  {
   "cell_type": "code",
   "execution_count": 10,
   "metadata": {},
   "outputs": [
    {
     "data": {
      "text/plain": [
       "<module 'saver.experiment' from '/home/widium/Programming/AI/Pytorch_Experiment_Framework/saver/experiment.py'>"
      ]
     },
     "execution_count": 10,
     "metadata": {},
     "output_type": "execute_result"
    }
   ],
   "source": [
    "import importlib\n",
    "\n",
    "from saver import experiment\n",
    "import saver \n",
    "\n",
    "importlib.reload(module=saver)\n",
    "importlib.reload(module=experiment)"
   ]
  },
  {
   "cell_type": "code",
   "execution_count": 11,
   "metadata": {},
   "outputs": [],
   "source": [
    "!rm -rf experiments/experiment_test"
   ]
  },
  {
   "cell_type": "code",
   "execution_count": 12,
   "metadata": {},
   "outputs": [
    {
     "name": "stdout",
     "output_type": "stream",
     "text": [
      "[INFO] : Initialize experiment_test\n",
      "[INFO] : Create [experiments/experiment_test] Directory\n"
     ]
    }
   ],
   "source": [
    "from saver.experiment import ExperimentSaver\n",
    "\n",
    "saver = ExperimentSaver(\n",
    "    experiment_name=\"experiment_test\",\n",
    "    model_name=\"efficient_net_b0\",\n",
    "    location=\"experiments/\",\n",
    ")\n"
   ]
  },
  {
   "cell_type": "code",
   "execution_count": 13,
   "metadata": {},
   "outputs": [
    {
     "name": "stdout",
     "output_type": "stream",
     "text": [
      "[INFO] : Saving EfficientNet with 4,011,391 Parameters\n",
      "[INFO] : Saving EfficientNet as efficient_net_b0 in : [experiments/experiment_test/efficient_net_b0.pth]\n",
      "[INFO] : Saving Figure : [experiments/experiment_test/fig_0]\n",
      "[INFO] : Saving Graph of Network Architecture in : [experiments/experiment_test/experiment_summary.txt]\n",
      "[INFO] : Saving Experiment Information in : [experiments/experiment_test/experiment_summary.txt]\n",
      "[INFO] : Saving experiment_test Successfully !\n"
     ]
    }
   ],
   "source": [
    "num_epochs = len(history[\"Epochs\"])\n",
    "last_train_accuracy = history[\"Train Accuracy\"][-1]\n",
    "last_test_accuracy = history[\"Val Accuracy\"][-1]\n",
    "underfitting_diagnostic = history.diagnostic_results[\"Bias and UnderFitting\"]\n",
    "overfitting_diagnostic = history.diagnostic_results[\"Variance and OverFitting\"]\n",
    "training_time = history[\"Training Time\"]\n",
    "experiment_figures = [history.curve_figure]\n",
    "\n",
    "# ****************************************************\n",
    "\n",
    "saver.create_experiment(\n",
    "    model=efficientnetb0_feature_extractor,\n",
    "    input_shape=(1, 3, 224, 224),\n",
    "    dataset_size=\"20%\",\n",
    "    batch_size=BATCH_SIZE,\n",
    "    epochs=num_epochs,\n",
    "    train_accuracy=last_train_accuracy,\n",
    "    test_accuracy=last_test_accuracy,\n",
    "    underfitting_diag=underfitting_diagnostic,\n",
    "    overfitting_diag=overfitting_diagnostic,\n",
    "    figures=experiment_figures,\n",
    "    optimizer=optimizer,\n",
    "    device=device,\n",
    "    training_time=training_time,\n",
    "    extras_info=\"\"\n",
    ")"
   ]
  }
 ],
 "metadata": {
  "kernelspec": {
   "display_name": "tf_gpu",
   "language": "python",
   "name": "python3"
  },
  "language_info": {
   "codemirror_mode": {
    "name": "ipython",
    "version": 3
   },
   "file_extension": ".py",
   "mimetype": "text/x-python",
   "name": "python",
   "nbconvert_exporter": "python",
   "pygments_lexer": "ipython3",
   "version": "3.8.0"
  },
  "orig_nbformat": 4
 },
 "nbformat": 4,
 "nbformat_minor": 2
}
